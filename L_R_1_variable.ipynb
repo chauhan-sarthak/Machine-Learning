{
 "cells": [
  {
   "cell_type": "code",
   "execution_count": 19,
   "metadata": {},
   "outputs": [],
   "source": [
    "import numpy as np\n"
   ]
  },
  {
   "cell_type": "code",
   "execution_count": 20,
   "metadata": {},
   "outputs": [],
   "source": [
    "x_train=np.array([1,2,3,5])\n",
    "y_train=2*(np.array([1,2,3,4]))\n"
   ]
  },
  {
   "cell_type": "code",
   "execution_count": 21,
   "metadata": {},
   "outputs": [],
   "source": [
    "#Function to calculate the cost\n",
    "def compute_cost(x, y, w, b):\n",
    "   \n",
    "    m = len(x)\n",
    "    cost = 0\n",
    "    \n",
    "    for i in range(m):\n",
    "        f_wb = w * x[i] + b\n",
    "        cost = cost + (f_wb - y[i])**2\n",
    "    total_cost = 1 / (2 * m) * cost\n",
    "\n",
    "    return total_cost"
   ]
  },
  {
   "cell_type": "code",
   "execution_count": 22,
   "metadata": {},
   "outputs": [],
   "source": [
    "def compute_gradient(x, y, w, b): \n",
    "    \"\"\"\n",
    "    x : Data \n",
    "    y : target values\n",
    "    w,b(parameters): weight and bias \n",
    "    \n",
    "    \"\"\"\n",
    "    \n",
    "    \n",
    "    m = len(x)  #number of training examples\n",
    "    dj_dw = 0\n",
    "    dj_db = 0\n",
    "    \n",
    "    for i in range(m):  \n",
    "        f_wb = w * x[i] + b \n",
    "        dj_dw_i = (f_wb - y[i]) * x[i] \n",
    "        dj_db_i = f_wb - y[i] \n",
    "        dj_db += dj_db_i\n",
    "        dj_dw += dj_dw_i \n",
    "    dj_dw = dj_dw / m \n",
    "    dj_db = dj_db / m \n",
    "        \n",
    "    return dj_dw, dj_db  #partial derivatives yha calculate hue hai,jo next step me minus karne hai..."
   ]
  },
  {
   "cell_type": "code",
   "execution_count": 23,
   "metadata": {},
   "outputs": [],
   "source": [
    "def gradient_descent(x, y, w_in, b_in, alpha, num_iters, cost_function, gradient_function): \n",
    "    \"\"\"\n",
    "    x=training examples\n",
    "    y=target values\n",
    "    w_in=initial weight\n",
    "    b_in=initial bias\n",
    "    alpha=learning rate\n",
    "    num_iters=total number of times of iterate\n",
    "\n",
    "    \"\"\"\n",
    "    \n",
    "    \n",
    "    \n",
    "    b = b_in\n",
    "    w = w_in\n",
    "    \n",
    "    for i in range(num_iters):\n",
    "        # Calculate the gradient and update the parameters using gradient_function\n",
    "        dj_dw, dj_db = gradient_function(x,y,w,b)     \n",
    "\n",
    "        # Update Parameters \n",
    "        b = b - alpha * dj_db                            \n",
    "        w = w - alpha * dj_dw                            \n",
    "\n",
    "       \n",
    "    return w, b"
   ]
  },
  {
   "cell_type": "code",
   "execution_count": 24,
   "metadata": {},
   "outputs": [
    {
     "name": "stdout",
     "output_type": "stream",
     "text": [
      "THE EQUATION OF THE LINE OF BEST FIT IS:\n",
      "y= 1.49x + 0.91        (with the error of)\n",
      "ERROR: 0.09\n"
     ]
    }
   ],
   "source": [
    "# initialize parameters !!!\n",
    "w_in = 0\n",
    "b_in = 0\n",
    "\n",
    "iterations = 20000\n",
    "alpha = 1e-1\n",
    "\n",
    "# run gradient descent\n",
    "w_final, b_final = gradient_descent(x_train ,y_train, w_in, b_in, alpha, iterations, compute_cost, compute_gradient)\n",
    "\n",
    "\n",
    "error=compute_cost(x_train,y_train,w_final,b_final)\n",
    "\n",
    "print(\"THE EQUATION OF THE LINE OF BEST FIT IS:\")\n",
    "print(\"y= {:.2f}x + {:.2f}        (with the error of)\".format(w_final,b_final))\n",
    "print(\"ERROR: {:.2f}\".format(error))\n",
    "\n"
   ]
  }
 ],
 "metadata": {
  "kernelspec": {
   "display_name": "Python 3.10.2 64-bit",
   "language": "python",
   "name": "python3"
  },
  "language_info": {
   "codemirror_mode": {
    "name": "ipython",
    "version": 3
   },
   "file_extension": ".py",
   "mimetype": "text/x-python",
   "name": "python",
   "nbconvert_exporter": "python",
   "pygments_lexer": "ipython3",
   "version": "3.10.2"
  },
  "orig_nbformat": 4,
  "vscode": {
   "interpreter": {
    "hash": "aee8b7b246df8f9039afb4144a1f6fd8d2ca17a180786b69acc140d282b71a49"
   }
  }
 },
 "nbformat": 4,
 "nbformat_minor": 2
}
